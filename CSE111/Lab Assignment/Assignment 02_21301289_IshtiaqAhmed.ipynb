{
 "cells": [
  {
   "cell_type": "code",
   "execution_count": 26,
   "id": "91c39ba7",
   "metadata": {},
   "outputs": [
    {
     "name": "stdout",
     "output_type": "stream",
     "text": [
      "0.5\n",
      "0\n",
      "0\n"
     ]
    }
   ],
   "source": [
    "#Lab Assignment no 2:\n",
    "#ID: 21301289\n",
    "#Name: Ishtiaq Ahmed\n",
    "\n",
    "#Ans to the question no 1:\n",
    "\n",
    "def fraction(num1,num2):\n",
    "    if num1== 0 or num2==0:\n",
    "        return \"0\"\n",
    "    else:\n",
    "        up_val = num1//num2\n",
    "        flour_val = num1/num2\n",
    "        fraction_part= flour_val - up_val\n",
    "        return (fraction_part)\n",
    "    \n",
    "print(fraction(5,2))\n",
    "print(fraction(5,0))\n",
    "print(fraction(0,5))"
   ]
  },
  {
   "cell_type": "code",
   "execution_count": 71,
   "id": "898d1553",
   "metadata": {},
   "outputs": [
    {
     "name": "stdout",
     "output_type": "stream",
     "text": [
      "Score is 31.3.You are Obese\n",
      "Score is 20.8.You are Normal\n"
     ]
    }
   ],
   "source": [
    "#Ans to the question no. 2 :\n",
    "\n",
    " \n",
    "def bmi_result(height,weight):\n",
    "    if height== 0 or weight==0:\n",
    "        print(\"0\")\n",
    "    else:\n",
    "        height_m = height*0.01\n",
    "        bmi = weight/(height_m**2)\n",
    "        result='%.1f'%bmi\n",
    "    \n",
    "        if bmi < 18.5:\n",
    "            print (\"Score is\",result +\".You are Underweight\")\n",
    "        elif 18.5<=bmi <=24.9:\n",
    "            print (\"Score is\",result +\".You are Normal\")\n",
    "        elif 25<=bmi<=30:\n",
    "            print (\"Score is\",result +\".You are Overweight\")\n",
    "        elif bmi> 30:\n",
    "            print (\"Score is\",result +\".You are Obese\")         \n",
    "    \n",
    "bmi_result(175, 96)\n",
    "bmi_result(152, 48)\n",
    "   \n",
    "    \n"
   ]
  },
  {
   "cell_type": "code",
   "execution_count": 75,
   "id": "cca43307",
   "metadata": {},
   "outputs": [
    {
     "name": "stdout",
     "output_type": "stream",
     "text": [
      "20\n",
      "45\n"
     ]
    }
   ],
   "source": [
    "#Ans to the question no.3:\n",
    "\n",
    "def summation(minimum,maximum,divisor):\n",
    "    sum_list=[]\n",
    "    for i in range(minimum,maximum):\n",
    "        if i%divisor==0:\n",
    "            sum_list.append(i)\n",
    "        else:\n",
    "            pass\n",
    "    return sum(sum_list)  \n",
    "\n",
    "print(summation(0,10,2))\n",
    "print(summation(3,16,3))"
   ]
  },
  {
   "cell_type": "code",
   "execution_count": 80,
   "id": "7764c166",
   "metadata": {},
   "outputs": [
    {
     "name": "stdout",
     "output_type": "stream",
     "text": [
      "243.6\n",
      "223.6\n"
     ]
    }
   ],
   "source": [
    "#Ans to the question no.4:\n",
    "\n",
    "food = \"Beef Burger\"\n",
    "location = \"Dhanmondi\"\n",
    "\n",
    "def total_cost(food,location=\"Mohakhali\"):\n",
    "    food_price = {\"BBQ Chicken Cheese Burger\":250 , \"Beef Burger\":170 , \"Naga Drums\":200}\n",
    "    selected_food={}\n",
    "    for fname,price in food_price.items():\n",
    "        if fname==food:\n",
    "            selected_food[fname]=price\n",
    "              \n",
    "    for val in selected_food.values():\n",
    "        tax=(8*val)/100\n",
    "    if location == \"Mohakhali\":\n",
    "        total_price= val + 40 + tax\n",
    "    else:\n",
    "        total_price= val + 60 + tax\n",
    "    return total_price\n",
    "\n",
    "print(total_cost(\"Beef Burger\", \"Dhanmondi\"))\n",
    "print(total_cost(\"Beef Burger\"))\n"
   ]
  },
  {
   "cell_type": "code",
   "execution_count": 91,
   "id": "91ee3bf8",
   "metadata": {},
   "outputs": [
    {
     "name": "stdout",
     "output_type": "stream",
     "text": [
      "Changed: alice@sheba.xyz\n",
      "Unchanged: bob@sheba.xyz\n"
     ]
    }
   ],
   "source": [
    "#Ans to the question no. 5:\n",
    "\n",
    " \n",
    "def replace_domain(email,newDom,oldDom=\"sheba.xyz\"):\n",
    "    if oldDom== \"sheba.xyz\":\n",
    "        print (\"Unchanged:\", email)\n",
    "    else:\n",
    "        splite_mail=email.split(\"@\")\n",
    "        new_email= splite_mail[0]+ \"@\" + newDom\n",
    "        print (\"Changed:\",new_email)\n",
    "    \n",
    "replace_domain(\"alice@kaaj.com\", \"sheba.xyz\", \"kaaj.com\")  \n",
    "replace_domain(\"bob@sheba.xyz\", \"sheba.xyz\")"
   ]
  },
  {
   "cell_type": "code",
   "execution_count": 78,
   "id": "84d1ebff",
   "metadata": {},
   "outputs": [
    {
     "name": "stdout",
     "output_type": "stream",
     "text": [
      "Vowels: e,e,o. Total number of vowels: 3\n",
      "No vowels in the name\n"
     ]
    }
   ],
   "source": [
    "#Ans to the question no. 6:\n",
    "\n",
    "def vowel_calculate(name):\n",
    "    string=name.lower()\n",
    "    count=0\n",
    "    a=[]\n",
    "    list1=[\"a\",\"e\",\"i\",\"o\",\"u\"]\n",
    "    for char in string:\n",
    "        if char in list1:\n",
    "            a.append(char)\n",
    "            count=count+1 \n",
    "    if count!= 0:\n",
    "        vowel=\" \".join(a)\n",
    "        update_vowel=vowel.replace(\" \",\",\")\n",
    "        print(\"Vowels:\", update_vowel+\". Total number of vowels:\",count)\n",
    "         \n",
    "    else:\n",
    "        print(\"No vowels in the name\")\n",
    "\n",
    "vowel_calculate(\"Steve Jobs\")\n",
    "vowel_calculate(\"XYZ\")"
   ]
  },
  {
   "cell_type": "code",
   "execution_count": 5,
   "id": "8afc33aa",
   "metadata": {},
   "outputs": [
    {
     "name": "stdout",
     "output_type": "stream",
     "text": [
      "Palindrome\n",
      "Not a palindrome\n",
      "Palindrome\n"
     ]
    }
   ],
   "source": [
    "#Ans to the question no. 7:\n",
    "\n",
    "\n",
    "def string_cheker(string):\n",
    "    for ch in string:\n",
    "        if ch==\" \":\n",
    "            string.split(\" \")\n",
    "        else:\n",
    "            pass\n",
    "    x=0\n",
    "    for x in range(len(string)):\n",
    "        if string[x] != string[-x-1]:\n",
    "            print(\"Not a palindrome\")\n",
    "            break\n",
    "        else:\n",
    "            print(\"Palindrome\")\n",
    "            break\n",
    "string_cheker(\"madam\")\n",
    "string_cheker(\"hello\")\n",
    "string_cheker(\"nurses run\")"
   ]
  },
  {
   "cell_type": "code",
   "execution_count": 151,
   "id": "b23dd77f",
   "metadata": {},
   "outputs": [
    {
     "name": "stdout",
     "output_type": "stream",
     "text": [
      "11 years, 10 months and 5 days\n",
      "10 years, 11 months and 20 days\n"
     ]
    }
   ],
   "source": [
    "#Ans to the question no. 8:\n",
    "\n",
    "\n",
    "def calculate_days(user):\n",
    "    year = user//365\n",
    "    remaining_Day = user%365\n",
    "    month= remaining_Day//30\n",
    "    actual_Day=remaining_Day%30\n",
    "    print(year,\"years,\", month, \"months and\", actual_Day, \"days\")\n",
    "    \n",
    "calculate_days(4320)    \n",
    "calculate_days(4000)  "
   ]
  },
  {
   "cell_type": "code",
   "execution_count": 5,
   "id": "7d90389b",
   "metadata": {},
   "outputs": [
    {
     "name": "stdout",
     "output_type": "stream",
     "text": [
      "My favourite animal is a dog. A dog has sharp teeth so that it can eat flesh very easily. Do you know my pet dog’s name? I love my pet very much\n"
     ]
    }
   ],
   "source": [
    "#Ans to the question no. 9:\n",
    "\n",
    "def correct_capitalized(user):\n",
    "    mark='.!?'\n",
    "    string=''\n",
    "    sentence=user.lower()\n",
    "    for i in range(len(sentence)):\n",
    "        if i==0:\n",
    "            string=sentence[i].upper()\n",
    "        else:\n",
    "            if sentence[i]==\"i\":\n",
    "                if sentence[i-1]==\" \" and sentence[i+1]==\" \":\n",
    "                    string+=\"I\"\n",
    "                else:\n",
    "                    string+=sentence[i]\n",
    "            else:\n",
    "                if sentence[i-1]==\" \" and sentence[i-2] in mark:\n",
    "                    string+=sentence[i].upper()\n",
    "                else:\n",
    "                    string+=sentence[i]\n",
    "    return string\n",
    "\n",
    "\n",
    "print(correct_capitalized(\"my favourite animal is a dog. a dog has sharp teeth so that it can eat flesh very easily. do you know my pet dog’s name? i love my pet very much\"))\n",
    "\n"
   ]
  },
  {
   "cell_type": "code",
   "execution_count": null,
   "id": "71873219",
   "metadata": {},
   "outputs": [],
   "source": []
  }
 ],
 "metadata": {
  "kernelspec": {
   "display_name": "Python 3",
   "language": "python",
   "name": "python3"
  },
  "language_info": {
   "codemirror_mode": {
    "name": "ipython",
    "version": 3
   },
   "file_extension": ".py",
   "mimetype": "text/x-python",
   "name": "python",
   "nbconvert_exporter": "python",
   "pygments_lexer": "ipython3",
   "version": "3.8.8"
  }
 },
 "nbformat": 4,
 "nbformat_minor": 5
}
