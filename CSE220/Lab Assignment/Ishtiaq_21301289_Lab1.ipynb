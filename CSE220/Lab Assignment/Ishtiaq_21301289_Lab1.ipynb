{
  "nbformat": 4,
  "nbformat_minor": 0,
  "metadata": {
    "colab": {
      "provenance": []
    },
    "kernelspec": {
      "name": "python3",
      "display_name": "Python 3"
    },
    "language_info": {
      "name": "python"
    }
  },
  "cells": [
    {
      "cell_type": "markdown",
      "source": [
        "LAB ASSIGNMENT -1,\n",
        "CSE220\n",
        "\n",
        "ID: 21301289\n",
        "Name: Ishtiaq Ahmed **bold text**"
      ],
      "metadata": {
        "id": "zWxS_Kq8epWF"
      }
    },
    {
      "cell_type": "markdown",
      "source": [
        "#***Lab-1, Part-1***"
      ],
      "metadata": {
        "id": "q8KvnScRwRJi"
      }
    },
    {
      "cell_type": "code",
      "execution_count": null,
      "metadata": {
        "colab": {
          "base_uri": "https://localhost:8080/"
        },
        "id": "hOSCdoORxzY9",
        "outputId": "d7bfee3d-cada-4192-b832-b7ce9342b675"
      },
      "outputs": [
        {
          "output_type": "stream",
          "name": "stdout",
          "text": [
            "[40, 50, 60, 0, 0, 0]\n"
          ]
        }
      ],
      "source": [
        "#1.Shift Left k Cells\n",
        "\n",
        "def shiftLeft(source,k):\n",
        "\n",
        "  i = 0 \n",
        "  while(i<k):\n",
        "    source [i] = source[i+k] \n",
        "    i+=1\n",
        "    \n",
        "\n",
        "\n",
        "  j = len(source)-1    \n",
        "  while (j>=k): \n",
        "    source[j]=0 \n",
        "    j-=1\n",
        "  print(source) \n",
        "   \n",
        "  \n",
        "\n",
        "source = [10,20,30,40,50,60] \n",
        "shiftLeft(source,3)\n"
      ]
    },
    {
      "cell_type": "code",
      "source": [
        "#2.Shift Left k Cells\n",
        "\n",
        "def RotateLeft(source, k):\n",
        "  for i in range(k):\n",
        "    temp = source[0] \n",
        "\n",
        "    for j in range(1,len(source)):\n",
        "\n",
        "      source[j-1]= source[j]  \n",
        "    source[len(source)-1]=temp  \n",
        "                            \n",
        "  print(source)\n",
        "\n",
        "source=[10,20,30,40,50,60] \n",
        "RotateLeft(source,3)\n",
        "\n"
      ],
      "metadata": {
        "colab": {
          "base_uri": "https://localhost:8080/"
        },
        "id": "faLOMGUKww6S",
        "outputId": "3b6887ec-dd69-453f-ee31-1f6159461507"
      },
      "execution_count": null,
      "outputs": [
        {
          "output_type": "stream",
          "name": "stdout",
          "text": [
            "[40, 50, 60, 10, 20, 30]\n"
          ]
        }
      ]
    },
    {
      "cell_type": "code",
      "source": [
        "#3.Shift Right k cell\n",
        "\n",
        "def shiftRight(source,k):\n",
        "  i = len(source)-1 \n",
        "  while (i>k): \n",
        "    source[i] = source [i-k]\n",
        "    i-=1\n",
        "  j = 0 \n",
        "  while j < k: \n",
        "    source[j] = 0 \n",
        "    j+=1\n",
        "  print(source)\n",
        "\n",
        "source = [10,20,30,40,50,60]\n",
        "shiftRight(source,3) \n"
      ],
      "metadata": {
        "colab": {
          "base_uri": "https://localhost:8080/"
        },
        "id": "sVLQD__N4Of9",
        "outputId": "4149ebf7-248a-4146-a2e5-5048802283ee"
      },
      "execution_count": null,
      "outputs": [
        {
          "output_type": "stream",
          "name": "stdout",
          "text": [
            "[0, 0, 0, 40, 20, 30]\n"
          ]
        }
      ]
    },
    {
      "cell_type": "code",
      "source": [
        "#4.Rotate Right K cell\n",
        "\n",
        "def RotateLeft(source, k):\n",
        "  for i in range(k):\n",
        "    temp = source[0] \n",
        "\n",
        "    for j in range(1,len(source)):\n",
        "\n",
        "      source[j-1]= source[j]  \n",
        "    source[len(source)-1]=temp  \n",
        "                            \n",
        "  print(source)\n",
        "\n",
        "source=[10,20,30,40,50,60] \n",
        "RotateLeft(source,3)\n",
        "\n"
      ],
      "metadata": {
        "colab": {
          "base_uri": "https://localhost:8080/"
        },
        "id": "Y0mO4uD77Bhp",
        "outputId": "ca2bc505-f66b-4688-c710-861e57f20600"
      },
      "execution_count": null,
      "outputs": [
        {
          "output_type": "stream",
          "name": "stdout",
          "text": [
            "[40, 50, 60, 10, 20, 30]\n"
          ]
        }
      ]
    },
    {
      "cell_type": "code",
      "source": [
        "#5. Remove an element from array\n",
        "\n",
        "def remove(source,idx):\n",
        "    for i in range(idx,len(source)-1):\n",
        "        source[i]=source[i+1]\n",
        "    print(source)\n",
        "source=[10,20,30,40,50,0,0]\n",
        "remove(source,2)\n"
      ],
      "metadata": {
        "colab": {
          "base_uri": "https://localhost:8080/"
        },
        "id": "CIYI0LJNyDyT",
        "outputId": "fb4b8788-241d-4c5c-d9f7-724447283b32"
      },
      "execution_count": null,
      "outputs": [
        {
          "output_type": "stream",
          "name": "stdout",
          "text": [
            "[10, 20, 40, 50, 0, 0, 0]\n"
          ]
        }
      ]
    },
    {
      "cell_type": "code",
      "source": [
        "#6. Remove all occurrences of a particular element from an array\n",
        "\n",
        "\n",
        "def remove_all(source,element):\n",
        "\n",
        "  nw_array= [0]*len(source)\n",
        "  x= 0\n",
        "\n",
        "  for idx in range(0,len(source)):\n",
        "\n",
        "    if (source[idx] != element):\n",
        "      nw_array[x]=source[idx]\n",
        "      x+=1\n",
        "\n",
        "  return nw_array\n",
        "  \n",
        "source=[10,2,30,2,50,2,2,0,0] \n",
        "print(remove_all(source,2))"
      ],
      "metadata": {
        "colab": {
          "base_uri": "https://localhost:8080/"
        },
        "id": "C51E0GsETc_t",
        "outputId": "d7cb0779-9c81-4c4d-f19d-c0ddb571fb78"
      },
      "execution_count": 33,
      "outputs": [
        {
          "output_type": "stream",
          "name": "stdout",
          "text": [
            "[10, 30, 50, 0, 0, 0, 0, 0, 0]\n"
          ]
        }
      ]
    },
    {
      "cell_type": "code",
      "source": [
        "#7. Splitting an Array\n",
        "\n",
        "def split_array(arry):\n",
        "  sum_l=0\n",
        "  sum_r=0\n",
        "\n",
        "  for x in range(0,len(arry)-1):\n",
        "    sum_l+=arry[x]\n",
        "\n",
        "    for x in range(0,x):\n",
        "      left_sum+=arry[x]\n",
        "      \n",
        "    for idx in range(x-1,len(arry)):\n",
        "       sum_r+=arry[idx]\n",
        "       if (sum_l == sum_r):\n",
        "        return True\n",
        "  \n",
        "    return False\n",
        "        \n",
        "\n",
        "split_array([10, 3, 1, 2, 10])\n",
        "\n"
      ],
      "metadata": {
        "colab": {
          "base_uri": "https://localhost:8080/"
        },
        "id": "t94V_bIxWpVj",
        "outputId": "a98a85c0-c5e3-4dc9-eca1-22c5a3f74f06"
      },
      "execution_count": 13,
      "outputs": [
        {
          "output_type": "execute_result",
          "data": {
            "text/plain": [
              "True"
            ]
          },
          "metadata": {},
          "execution_count": 13
        }
      ]
    },
    {
      "cell_type": "code",
      "source": [
        "#8. Max Bunch Count\n",
        "\n",
        "def max_bunch(arry):\n",
        "\n",
        "  cntr= 1\n",
        "  m_cntr= 1\n",
        "\n",
        "  for x in range(len(arry)-1):\n",
        "\n",
        "    if arry[x]==arry[x+1] :\n",
        "      cntr+=1\n",
        "      \n",
        "      if m_cntr < cntr:\n",
        "        m_cntr = cntr \n",
        "\n",
        "    else:\n",
        "      cntr= 1  \n",
        "      \n",
        "  return m_cntr\n",
        "  \n",
        "print(max_bunch([1, 2, 2, 3, 4, 4, 4]) )"
      ],
      "metadata": {
        "colab": {
          "base_uri": "https://localhost:8080/"
        },
        "id": "7aefwAq2W42g",
        "outputId": "71e7a7c1-82dd-41e9-b4f6-afc449a3ea4b"
      },
      "execution_count": 18,
      "outputs": [
        {
          "output_type": "stream",
          "name": "stdout",
          "text": [
            "3\n"
          ]
        }
      ]
    },
    {
      "cell_type": "code",
      "source": [],
      "metadata": {
        "id": "_ghtKERVW5tt"
      },
      "execution_count": null,
      "outputs": []
    },
    {
      "cell_type": "markdown",
      "source": [
        "#PART-2\n",
        "***bold text***"
      ],
      "metadata": {
        "id": "n2RhKhgFW6dE"
      }
    },
    {
      "cell_type": "code",
      "source": [
        "# LAB-1,  PART - 2\n",
        "\n",
        "\n",
        "\n",
        "# 1st TASK:  (MEAN)\n",
        "\n",
        "def mean(source):\n",
        "  cnt=0\n",
        "  ad=0\n",
        "  for idx in range(0,len(source)):\n",
        "    cnt+=1\n",
        "    ad+=source[idx]\n",
        "\n",
        "  mean_value=ad/cnt\n",
        "  return mean_value\n",
        "\n",
        "source=[10, 8, 13, 9, 14, 25, -5, 20, 7, 7, 4]\n",
        "print(\"The mean of the numbers is:\",mean(source))\n",
        "\n",
        "\n",
        "\n",
        "# 2nd TASK: (STANDARD DEVIATION)\n",
        "\n",
        "\n",
        "def sd(source,mean_value):\n",
        "  cnt=0\n",
        "  s1=0\n",
        "  for idx in range (0,len(source)):\n",
        "    cnt+=1\n",
        "    s1+=(source[idx]-mean_value)**2\n",
        "\n",
        "  final_val=(s1/(cnt-1))**(1/2)\n",
        "  return final_val\n",
        "\n",
        "source=[10, 8, 13, 9, 14, 25, -5, 20, 7, 7, 4]\n",
        "mean_value= 10.181818181818182\n",
        "print(\"The standard deviation is:\",sd(source,mean(source)))\n",
        "\n",
        "\n",
        "    \n",
        "# 3rd TASK: (NEW ARRAY)\n",
        "\n",
        "def n_array(source,mean_value,sd):\n",
        "  cntr=0\n",
        "  x=0\n",
        "  up_val= mean_value+(1.5*sd)\n",
        "  low_val= mean_value-(1.5*sd)\n",
        "\n",
        "  for idx in range(0,len(source)):\n",
        "    if low_val>source[idx] or up_val<source[idx]:\n",
        "      cntr+=1\n",
        "  nw_array=[0]*cntr\n",
        "\n",
        "  for idx in range(0,len(source)):\n",
        "    if low_val>source[idx] or up_val<source[idx]:\n",
        "      nw_array[x]=source[idx]\n",
        "      x+=1\n",
        "\n",
        "  return nw_array\n",
        "\n",
        "\n",
        "source=[10, 8, 13, 9, 14, 25, -5, 20, 7, 7, 4]\n",
        "mean_value= 10.181818181818182\n",
        "sd= 7.960127911260996\n",
        "print(\"New array:\",n_array(array,mean_value,sd))"
      ],
      "metadata": {
        "colab": {
          "base_uri": "https://localhost:8080/"
        },
        "id": "Is9j_L8UW-17",
        "outputId": "a9aa6485-8cda-4819-ad17-2943d08f466d"
      },
      "execution_count": 29,
      "outputs": [
        {
          "output_type": "stream",
          "name": "stdout",
          "text": [
            "The mean of the numbers is: 10.181818181818182\n",
            "The standard deviation is: 7.960127911260996\n",
            "New array: [25, -5]\n"
          ]
        }
      ]
    }
  ]
}