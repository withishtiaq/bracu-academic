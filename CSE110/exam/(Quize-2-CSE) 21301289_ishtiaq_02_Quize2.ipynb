{
 "cells": [
  {
   "cell_type": "code",
   "execution_count": 5,
   "id": "f94f7ce3",
   "metadata": {},
   "outputs": [
    {
     "name": "stdout",
     "output_type": "stream",
     "text": [
      "please enter the string : ty\n",
      "t 116\n",
      "y 121\n"
     ]
    }
   ],
   "source": [
    "n= input(\"please enter the string : \")\n",
    "for i in n:\n",
    "       print(i,ord(i))\n",
    "        if i%2==0:\n",
    "            i.replace([0:1]\n"
   ]
  },
  {
   "cell_type": "code",
   "execution_count": null,
   "id": "e9574abb",
   "metadata": {},
   "outputs": [],
   "source": []
  }
 ],
 "metadata": {
  "kernelspec": {
   "display_name": "Python 3",
   "language": "python",
   "name": "python3"
  },
  "language_info": {
   "codemirror_mode": {
    "name": "ipython",
    "version": 3
   },
   "file_extension": ".py",
   "mimetype": "text/x-python",
   "name": "python",
   "nbconvert_exporter": "python",
   "pygments_lexer": "ipython3",
   "version": "3.8.8"
  }
 },
 "nbformat": 4,
 "nbformat_minor": 5
}
