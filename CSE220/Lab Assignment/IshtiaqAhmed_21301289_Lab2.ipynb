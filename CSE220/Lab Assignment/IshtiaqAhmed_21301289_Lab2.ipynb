{
  "nbformat": 4,
  "nbformat_minor": 0,
  "metadata": {
    "colab": {
      "provenance": []
    },
    "kernelspec": {
      "name": "python3",
      "display_name": "Python 3"
    },
    "language_info": {
      "name": "python"
    }
  },
  "cells": [
    {
      "cell_type": "markdown",
      "source": [
        "#LAB ASSIGNMENT-2, CSE220\n",
        "Id: 21301289 ,\n",
        "Name: Ishtiaq Ahmed "
      ],
      "metadata": {
        "id": "GY52mDv9XLgP"
      }
    },
    {
      "cell_type": "code",
      "execution_count": 3,
      "metadata": {
        "colab": {
          "base_uri": "https://localhost:8080/"
        },
        "id": "q9k8fVzqq_ud",
        "outputId": "23471a5d-7f40-4d34-caf3-ffecd40a4f46"
      },
      "outputs": [
        {
          "name": "stdout",
          "output_type": "stream",
          "text": [
            "Enter 1st input: giRtfel2th\n",
            "Enter 2nd input: rightLeft2\n",
            "Your input is valid. Press any key and then press enter to continue!!!\n",
            "[['g', 'i', 'R', 't', 'f', 'e', 'l', '2', 't', 'h'], ['r', 'i', 'g', 'h', 't', 'L', 'e', 'f', 't', '2']]\n",
            "Top Board Start Character:  R\n",
            "Top Board Start Index:  2\n",
            "Bottom Board Start Character: L\n",
            "Bottom Board Start Index: 5\n",
            "Press any key and then press enter to continue!!!e\n",
            "i R t f e l 2 t h g\n",
            "2 r i g h t L e f t\n",
            "Press any key and then press enter to continue!!!f\n",
            "R t f e l 2 t h g i\n",
            "t 2 r i g h t L e f\n",
            "Press any key and then press enter to continue!!!g\n",
            "t f e l 2 t h g i R\n",
            "f t 2 r i g h t L e\n",
            "Press any key and then press enter to continue!!!h\n",
            "f e l 2 t h g i R t\n",
            "e f t 2 r i g h t L\n",
            "Press any key and then press enter to continue!!!i\n",
            "e l 2 t h g i R t f\n",
            "L e f t 2 r i g h t\n",
            "Press any key and then press enter to continue!!!k\n",
            "l 2 t h g i R t f e\n",
            "t L e f t 2 r i g h\n",
            "Press any key and then press enter to continue!!!q\n"
          ]
        }
      ],
      "source": [
        "ln=10\n",
        "user1=input(\"Enter your 1st input: \")\n",
        "user2=input(\"Enter your 2nd input: \")\n",
        "\n",
        "print(\"Your input is valid. Press any key and then press enter to continue!!!\")\n",
        "\n",
        "ar=[[0]*10,[0]*10]\n",
        "\n",
        "for idx in range(0,len(user1)):\n",
        "  if ln < len(user1):\n",
        "    print(\"Invalid Input Size\")\n",
        "  \n",
        "  else:\n",
        "    ar[0][idx]=user1[idx]\n",
        "\n",
        "for idx2 in range(0,len(user2)):\n",
        "  if ln < len(user2):\n",
        "    print(\"Invalid Input Size\")\n",
        "  \n",
        "  else:\n",
        "    ar[1][idx2]=user2[idx2]\n",
        "\n",
        "print(ar)\n",
        "\n",
        "\n",
        "\n",
        "v3=(ar[0])\n",
        "for i in range(0,len(v3)):\n",
        "  if 65 <= ord(v3[i]) <= 90:\n",
        "    print(\"Top Board Start Character: \",v3[i])\n",
        "    print(\"Top Board Start Index: \",i)\n",
        "    \n",
        "val4=(ar[1])\n",
        "for j in range(0,len(val4)):\n",
        "  if 65 <= ord(val4[j]) <= 90:\n",
        "    print(\"Bottom Board Start Character:\",val4[j])\n",
        "    print(\"Bottom Board Start Index:\",j)\n",
        "\n",
        "\n",
        "\n",
        "v=input(\"Press any key and then press enter to continue!!!\",)\n",
        "\n",
        "\n",
        "\n",
        "while True:\n",
        "  if v == \"Q\" or v==\"q\":\n",
        "    break\n",
        "    \n",
        "  else:\n",
        "    v1=(ar[0])\n",
        "    temp=v1[0]\n",
        "    for k in range(0,len(v1)-1):\n",
        "      \n",
        "      v1[k]=v1[k+1]\n",
        "\n",
        "\n",
        "    v1[len(v1)-1]=temp\n",
        "    print(*v1)\n",
        "      \n",
        "    v2=(ar[1])   \n",
        "    temp2=v2[len(v2)-1]\n",
        "\n",
        "    for l in range(len(v2)-1,-1,-1):\n",
        "\n",
        "      v2[l]=v2[l-1]\n",
        "\n",
        "    v2[0]=temp2\n",
        "    print(*v2)\n",
        "    \n",
        "    v=input(\"Press any key and then press enter to continue!!!\",)"
      ]
    }
  ]
}