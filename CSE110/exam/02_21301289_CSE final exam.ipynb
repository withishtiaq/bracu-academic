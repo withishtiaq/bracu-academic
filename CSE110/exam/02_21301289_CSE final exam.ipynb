{
 "cells": [
  {
   "cell_type": "code",
   "execution_count": 40,
   "id": "ed7c8e12",
   "metadata": {},
   "outputs": [
    {
     "name": "stdout",
     "output_type": "stream",
     "text": [
      "Enter your first list length : 8\n",
      "Enter 1st list element : 2\n",
      "Enter 1st list element : 3\n",
      "Enter 1st list element : 4\n",
      "Enter 1st list element : 8\n",
      "Enter 1st list element : 9\n",
      "Enter 1st list element : 13\n",
      "Enter 1st list element : 15\n",
      "Enter 1st list element : 18\n",
      "Enter your second list length : 4\n",
      "Enter 2nd list element : 9\n",
      "Enter 2nd list element : 10\n",
      "Enter 2nd list element : 15\n",
      "Enter 2nd list element : 1\n",
      "Initial merged list: [2, 3, 4, 8, 9, 13, 15, 18, 9, 10, 15, 1]\n",
      "Updated merged list: [2, 3, 4, 8, 9, 18, 9, 10, 15, 1]\n"
     ]
    }
   ],
   "source": [
    "first_list_length=int(input(\"Enter your first list length : \"))\n",
    "list_1=[]\n",
    "for num in range (first_list_length):\n",
    "    user1=int(input(\"Enter 1st list element : \"))\n",
    "    list_1.append(user1)\n",
    "\n",
    "second_list_length=int(input(\"Enter your second list length : \"))\n",
    "list_2=[]\n",
    "for num in range (second_list_length):\n",
    "    user2=int(input(\"Enter 2nd list element : \"))\n",
    "    list_2.append(user2)\n",
    "\n",
    "merged_list = list_1 + list_2\n",
    "print(\"Initial merged list:\",merged_list)\n",
    "copy_lst = merged_list.copy()\n",
    "\n",
    "lst=[]\n",
    "x=len(merged_list)\n",
    "if x%2==0:\n",
    "    a=x//2\n",
    "    b=x//2-1\n",
    "    #print(merged_list[a],merged_list[b])\n",
    "    copy_lst.remove(merged_list[a])\n",
    "    copy_lst.remove(merged_list[b])\n",
    "    print(\"Updated merged list:\",copy_lst)\n",
    "else:\n",
    "    n=x//2\n",
    "    #print(merged_list[n])\n",
    "    copy_lst.remove(merged_list[n])\n",
    "    print(\"Updated merged list:\",copy_lst)"
   ]
  },
  {
   "cell_type": "code",
   "execution_count": 14,
   "id": "c031bbee",
   "metadata": {},
   "outputs": [
    {
     "name": "stdout",
     "output_type": "stream",
     "text": [
      "Enter your multiple numbers are separated by spaces: 2 5 8 4\n",
      "Input list: [2, 5, 8, 4]\n",
      "Even list: [2, 8, 4]\n",
      "Enter your item names: strabery\n",
      "Enter your item names: milk\n",
      "Enter your item names: banana\n",
      "{'strabery': 2, 'milk': 8, 'banana': 4}\n"
     ]
    }
   ],
   "source": [
    "user = input(\"Enter your multiple numbers are separated by spaces: \")\n",
    "\n",
    "lst=list(map(int,user.split(' ')))\n",
    "print(\"Input list:\",lst)\n",
    "\n",
    "divisible_list = []\n",
    "for num in lst:\n",
    "    if num%2==0:\n",
    "        divisible_list.append(num)\n",
    "print(\"Even list:\", divisible_list)\n",
    "\n",
    "length=len(divisible_list)\n",
    "dic={}\n",
    "if length==0:\n",
    "    print(\"No dictionary can be made\")\n",
    "    \n",
    "else:\n",
    "    for item in range (length):\n",
    "        user2=input(\"Enter your item names: \")\n",
    "        dic[user2]=divisible_list[item]\n",
    "print(dic)        \n",
    "        \n",
    "\n",
    "        \n"
   ]
  },
  {
   "cell_type": "code",
   "execution_count": 21,
   "id": "23a45ed4",
   "metadata": {},
   "outputs": [
    {
     "ename": "AttributeError",
     "evalue": "'list' object has no attribute 'split'",
     "output_type": "error",
     "traceback": [
      "\u001b[1;31m---------------------------------------------------------------------------\u001b[0m",
      "\u001b[1;31mAttributeError\u001b[0m                            Traceback (most recent call last)",
      "\u001b[1;32m<ipython-input-21-26f1d6ff5146>\u001b[0m in \u001b[0;36m<module>\u001b[1;34m\u001b[0m\n\u001b[0;32m      5\u001b[0m \u001b[1;33m\u001b[0m\u001b[0m\n\u001b[0;32m      6\u001b[0m \u001b[1;33m\u001b[0m\u001b[0m\n\u001b[1;32m----> 7\u001b[1;33m \u001b[0muser\u001b[0m\u001b[1;33m(\u001b[0m\u001b[1;34m\"90, 50, 30, 15, 10, 5\"\u001b[0m\u001b[1;33m)\u001b[0m\u001b[1;33m\u001b[0m\u001b[1;33m\u001b[0m\u001b[0m\n\u001b[0m",
      "\u001b[1;32m<ipython-input-21-26f1d6ff5146>\u001b[0m in \u001b[0;36muser\u001b[1;34m(use)\u001b[0m\n\u001b[0;32m      1\u001b[0m \u001b[1;32mdef\u001b[0m \u001b[0muser\u001b[0m\u001b[1;33m(\u001b[0m\u001b[0muse\u001b[0m\u001b[1;33m)\u001b[0m\u001b[1;33m:\u001b[0m\u001b[1;33m\u001b[0m\u001b[1;33m\u001b[0m\u001b[0m\n\u001b[0;32m      2\u001b[0m     \u001b[0mx\u001b[0m\u001b[1;33m=\u001b[0m\u001b[0mlist\u001b[0m\u001b[1;33m(\u001b[0m\u001b[0muse\u001b[0m\u001b[1;33m)\u001b[0m\u001b[1;33m\u001b[0m\u001b[1;33m\u001b[0m\u001b[0m\n\u001b[1;32m----> 3\u001b[1;33m     \u001b[0my\u001b[0m\u001b[1;33m=\u001b[0m\u001b[0mx\u001b[0m\u001b[1;33m.\u001b[0m\u001b[0msplit\u001b[0m\u001b[1;33m(\u001b[0m\u001b[1;34m','\u001b[0m\u001b[1;33m)\u001b[0m\u001b[1;33m\u001b[0m\u001b[1;33m\u001b[0m\u001b[0m\n\u001b[0m\u001b[0;32m      4\u001b[0m     \u001b[0mprint\u001b[0m\u001b[1;33m(\u001b[0m\u001b[0my\u001b[0m\u001b[1;33m)\u001b[0m\u001b[1;33m\u001b[0m\u001b[1;33m\u001b[0m\u001b[0m\n\u001b[0;32m      5\u001b[0m \u001b[1;33m\u001b[0m\u001b[0m\n",
      "\u001b[1;31mAttributeError\u001b[0m: 'list' object has no attribute 'split'"
     ]
    }
   ],
   "source": [
    "def user(use):\n",
    "    x=list(use)\n",
    "    y=x.split(',')\n",
    "    print(y)\n",
    " \n",
    "  \n",
    "user(\"90, 50, 30, 15, 10, 5\")"
   ]
  },
  {
   "cell_type": "code",
   "execution_count": null,
   "id": "04f74f73",
   "metadata": {},
   "outputs": [],
   "source": []
  }
 ],
 "metadata": {
  "kernelspec": {
   "display_name": "Python 3",
   "language": "python",
   "name": "python3"
  },
  "language_info": {
   "codemirror_mode": {
    "name": "ipython",
    "version": 3
   },
   "file_extension": ".py",
   "mimetype": "text/x-python",
   "name": "python",
   "nbconvert_exporter": "python",
   "pygments_lexer": "ipython3",
   "version": "3.8.8"
  }
 },
 "nbformat": 4,
 "nbformat_minor": 5
}
