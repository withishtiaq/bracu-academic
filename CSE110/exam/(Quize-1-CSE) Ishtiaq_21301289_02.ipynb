{
 "cells": [
  {
   "cell_type": "code",
   "execution_count": 11,
   "id": "b6bf2453",
   "metadata": {},
   "outputs": [
    {
     "name": "stdout",
     "output_type": "stream",
     "text": [
      "How many numbers you want to enter? 3\n",
      "please enter number: 20\n",
      "please enter number: 30\n",
      "please enter number: 23\n",
      "Average 0.0\n"
     ]
    }
   ],
   "source": [
    " \n",
    "sum=0\n",
    "count=0\n",
    "quantity=int(input(\"How many numbers you want to enter? \"))\n",
    "for i in range(quantity):\n",
    "    number=int(input(\"please enter number: \"))\n",
    "    if number>100 or number<0:\n",
    "        print(\"Error\")\n",
    "    else:    \n",
    "        sum=sum+count\n",
    "        avg=sum/quantity\n",
    "        \n",
    "print(\"Average\", avg)"
   ]
  },
  {
   "cell_type": "code",
   "execution_count": null,
   "id": "8daf4e07",
   "metadata": {},
   "outputs": [],
   "source": []
  }
 ],
 "metadata": {
  "kernelspec": {
   "display_name": "Python 3",
   "language": "python",
   "name": "python3"
  },
  "language_info": {
   "codemirror_mode": {
    "name": "ipython",
    "version": 3
   },
   "file_extension": ".py",
   "mimetype": "text/x-python",
   "name": "python",
   "nbconvert_exporter": "python",
   "pygments_lexer": "ipython3",
   "version": "3.8.8"
  }
 },
 "nbformat": 4,
 "nbformat_minor": 5
}
