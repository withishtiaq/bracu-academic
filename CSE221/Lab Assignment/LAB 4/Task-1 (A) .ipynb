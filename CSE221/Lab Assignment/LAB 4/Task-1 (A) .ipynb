{
  "nbformat": 4,
  "nbformat_minor": 0,
  "metadata": {
    "colab": {
      "provenance": []
    },
    "kernelspec": {
      "name": "python3",
      "display_name": "Python 3"
    },
    "language_info": {
      "name": "python"
    }
  },
  "cells": [
    {
      "cell_type": "markdown",
      "source": [
        "ID: 21301289 || Name: Ishtiaq Ahmed || Class Task 21 Nov || Sec: 23 || CSE221 Lab05"
      ],
      "metadata": {
        "id": "u27y-uy4hEl6"
      }
    },
    {
      "cell_type": "code",
      "execution_count": 1,
      "metadata": {
        "colab": {
          "base_uri": "https://localhost:8080/"
        },
        "id": "5aWr0hPIcXR3",
        "outputId": "298f124c-3cde-4e84-d00b-e72011b32289"
      },
      "outputs": [
        {
          "output_type": "stream",
          "name": "stdout",
          "text": [
            "Number of connected components: 2\n"
          ]
        }
      ],
      "source": [
        "def connected_components(adj_list):\n",
        "    def dfs(node, visited):\n",
        "        visited.add(node)\n",
        "        for neighbor in adj_list[node]:\n",
        "            if neighbor not in visited:\n",
        "                dfs(neighbor, visited)\n",
        "\n",
        "    num_components = 0\n",
        "    visited_nodes = set()\n",
        "\n",
        "    for node in adj_list:\n",
        "        if node not in visited_nodes:\n",
        "            dfs(node, visited_nodes)\n",
        "            num_components += 1\n",
        "\n",
        "    return num_components\n",
        "\n",
        "# Example Usage:\n",
        "graph_example = {\n",
        "    'A': ['B', 'C'],\n",
        "    'B': ['A', 'D'],\n",
        "    'C': ['A'],\n",
        "    'D': ['B'],\n",
        "    'E': ['F'],\n",
        "    'F': ['E']\n",
        "}\n",
        "result = connected_components(graph_example)\n",
        "print(\"Number of connected components:\", result)\n"
      ]
    }
  ]
}