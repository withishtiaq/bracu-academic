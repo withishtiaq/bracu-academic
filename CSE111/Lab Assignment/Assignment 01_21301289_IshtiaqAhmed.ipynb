{
 "cells": [
  {
   "cell_type": "code",
   "execution_count": 18,
   "id": "ddcfe65b",
   "metadata": {},
   "outputs": [
    {
     "name": "stdout",
     "output_type": "stream",
     "text": [
      "HOUSE\n",
      "apple\n",
      "banana\n"
     ]
    }
   ],
   "source": [
    "#String\n",
    "#Ans to the question no 1:\n",
    "\n",
    "def user(string):\n",
    "    lowerC=0\n",
    "    upperC=0\n",
    "    for char in string:\n",
    "        if char.islower():\n",
    "            lowerC=lowerC+1\n",
    "        elif char.isupper():\n",
    "            upperC=upperC+1\n",
    "          \n",
    "    if upperC>lowerC:\n",
    "        return (string.upper())\n",
    "    else:\n",
    "        return (string.lower())\n",
    "print(user(\"HOusE\"))\n",
    "print(user(\"ApplE\"))\n",
    "print(user(\"BaNaNa\"))\n",
    "    \n",
    "    \n",
    "\n"
   ]
  },
  {
   "cell_type": "code",
   "execution_count": 36,
   "id": "90d0a715",
   "metadata": {},
   "outputs": [
    {
     "name": "stdout",
     "output_type": "stream",
     "text": [
      "NUMBER\n",
      "MIXED\n",
      "WORD\n"
     ]
    }
   ],
   "source": [
    "#Ans to the question no 2:\n",
    "\n",
    "def user(inpt):\n",
    "    if  inpt.isdigit():\n",
    "        return (\"NUMBER\")\n",
    "    elif inpt.isalpha():\n",
    "        return (\"WORD\")\n",
    "    else:\n",
    "        return (\"MIXED\")\n",
    "    \n",
    "print(user(\"213213\"))\n",
    "print(user(\"jhg231j213\"))\n",
    "print(user(\"Hello\"))"
   ]
  },
  {
   "cell_type": "code",
   "execution_count": 33,
   "id": "ffcfe441",
   "metadata": {},
   "outputs": [
    {
     "name": "stdout",
     "output_type": "stream",
     "text": [
      "glad\n",
      "BLANK\n"
     ]
    }
   ],
   "source": [
    "#Ans to the question no 3:\n",
    "\n",
    "def user(inpt):\n",
    "    capital=\"ABCDEFGHIJKLMNOPQRSTUVWXYZ\"\n",
    "    fi=0\n",
    "    si=0\n",
    "    for i in range (0,len(inpt)):\n",
    "        if inpt[i] in capital :\n",
    "            fi=0+i\n",
    "            break\n",
    "    for i in range (0,len(inpt)):\n",
    "        if inpt[i] in capital:\n",
    "            si=0+i\n",
    "    if si-fi== 1:\n",
    "        return \"BLANK\"\n",
    "    else:\n",
    "        return inpt[fi+1:si]\n",
    "\n",
    "print(user(\"baNgladEsh\"))\n",
    "print(user(\"coDIng\"))\n",
    "        \n",
    "         "
   ]
  },
  {
   "cell_type": "code",
   "execution_count": 40,
   "id": "f4e49e04",
   "metadata": {},
   "outputs": [
    {
     "name": "stdout",
     "output_type": "stream",
     "text": [
      "The book is not excellent!\n",
      "This book is good too!\n"
     ]
    }
   ],
   "source": [
    "#Ans to the question no 4:\n",
    "\n",
    "def user(inpt):\n",
    "    \n",
    "    if \"too good\" in inpt:\n",
    "        x = inpt.replace(\"too good\",\"excellent\")\n",
    "        return (x)\n",
    "    else:\n",
    "        return (inpt)\n",
    "\n",
    "print(user(\"The book is not too good!\"))\n",
    "print(user(\"This book is good too!\"))"
   ]
  },
  {
   "cell_type": "code",
   "execution_count": 88,
   "id": "2df14cc8",
   "metadata": {},
   "outputs": [
    {
     "name": "stdout",
     "output_type": "stream",
     "text": [
      "hrrhr\n",
      "Nothing in common.\n"
     ]
    }
   ],
   "source": [
    "#Ans to the question no 5:\n",
    "\n",
    "def user(x,y):\n",
    "    s1=\" \"\n",
    "    s2=\" \"\n",
    "    for i in x:\n",
    "        if i in y:\n",
    "            s1=s1+i\n",
    "    for i in y:\n",
    "        if i in x:\n",
    "            s2=s2+i\n",
    "    if s1 == \" \" and s2 == \" \":\n",
    "        return \"Nothing in common.\" \n",
    "    else:        \n",
    "        final=s1+s2  \n",
    "        result=final.replace(\" \",\"\")\n",
    "        return result   \n",
    "    \n",
    "print(user(\"harry\",\"hermionne\"))\n",
    "print(user(\"dean\",\"tom\"))\n"
   ]
  },
  {
   "cell_type": "code",
   "execution_count": 160,
   "id": "e7990317",
   "metadata": {},
   "outputs": [
    {
     "name": "stdout",
     "output_type": "stream",
     "text": [
      "Digit missing\n",
      "Uppercase character missing, Digit missing, Special character missing\n",
      "OK\n"
     ]
    }
   ],
   "source": [
    "#Ans to the question no 6:\n",
    "\n",
    "def user(x):\n",
    "    lower=\"abcdefghijklmnopqrstuvwxyz\"\n",
    "    upper=\"ABCDEFGHIJKLMNOPQRSTUVWXYZ\"\n",
    "    digit=\"0123456789\"\n",
    "    special_char=\"_ , $ , #, @\"\n",
    "\n",
    "    lower_update=\"\"\n",
    "    upper_update=\"\"\n",
    "    digit_update=\"\"\n",
    "    special_char_update=\"\"\n",
    "\n",
    "    for i in range(0,len(x)): \n",
    "        if x[i] in lower:\n",
    "            lower_update=lower_update+x[i]\n",
    "        elif x[i] in upper:\n",
    "            upper_update=upper_update+x[i]\n",
    "        elif x[i] in digit:\n",
    "            digit_update=digit_update+x[i]\n",
    "        elif x[i] in special_char:\n",
    "            special_char_update=special_char_update+x[i]\n",
    "\n",
    "    u=len(upper_update)\n",
    "    l=len(lower_update)\n",
    "    d=len(digit_update)\n",
    "    s=len(special_char_update)\n",
    "        \n",
    "    if u == 0 and l == 0 and d == 0 and s==0 :\n",
    "        return (\"Uppercase character missing, Lowercase character missing, Digit missing, Special character missing\")\n",
    "    \n",
    "    elif u==0 and l==0 and d==0:\n",
    "        return (\"Uppercase character missing, Lowercase character missing, Digit missing\")    \n",
    "    elif u==0 and d==0 and s==0:\n",
    "        return (\"Uppercase character missing, Digit missing, Special character missing\")\n",
    "    elif l==0 and d==0 and s==0:\n",
    "        return (\"Lowercase character missing, Digit missing, Special character missing\")\n",
    "    \n",
    "    elif u==0 and l==0:\n",
    "        return (\"Uppercase character missing, Lowercase character missing\")\n",
    "    elif u==0 and d==0:\n",
    "        return (\"Uppercase character missing, Digit missing\")\n",
    "    elif l==0 and d==0:\n",
    "        return (\"Lowercase character missing, Digit missing\")\n",
    "    elif u==0 and s==0:\n",
    "        return (\"Uppercase character missing, Special character missing\")\n",
    "    elif l==0 and s==0:\n",
    "        return (\"Lowercase character missing, Special character missing\")\n",
    "    elif d==0 and s==0:\n",
    "        return (\"Digit missing, Special character missing\")\n",
    "\n",
    "    elif u==0:\n",
    "        return (\"Uppercase character missing\")\n",
    "    elif l==0:\n",
    "        return (\"Lowercase character missing\")\n",
    "    elif d==0:\n",
    "        return (\"Digit missing\")\n",
    "    elif s==0:\n",
    "        return (\"Special character missing\")\n",
    "    else:\n",
    "        return (\"OK\")\n",
    "    \n",
    "print(user(\"ohMyBR@CU\"))  \n",
    "print(user(\"ohmybracu\"))\n",
    "print(user(\"OhMyBR@CU20\"))"
   ]
  },
  {
   "cell_type": "code",
   "execution_count": 8,
   "id": "57d3b916",
   "metadata": {},
   "outputs": [
    {
     "name": "stdout",
     "output_type": "stream",
     "text": [
      "10\n",
      "20\n",
      "20\n",
      "30\n",
      "10\n",
      "50\n",
      "90\n",
      "STOP\n",
      "10 - 2 times\n",
      "20 - 2 times\n",
      "30 - 1 times\n",
      "50 - 1 times\n",
      "90 - 1 times\n"
     ]
    }
   ],
   "source": [
    "#List\n",
    "#ans to the question no 1:\n",
    "\n",
    "list1=[]\n",
    "uniq_list=[]\n",
    "while True:\n",
    "    num=input()\n",
    "    if num == \"STOP\" :\n",
    "        break\n",
    "    else:\n",
    "        x=int(num)\n",
    "        list1.append(x)\n",
    "#print(list1)        \n",
    "\n",
    "for i in list1:\n",
    "    if i not in uniq_list:\n",
    "        uniq_list.append(i)\n",
    "    else:\n",
    "        pass\n",
    "#print(uniq_list)   \n",
    "\n",
    "for n in uniq_list:\n",
    "    x=list1.count(n)\n",
    "    print(n,\"-\", x , \"times\")\n",
    "    "
   ]
  },
  {
   "cell_type": "code",
   "execution_count": 1,
   "id": "90af8556",
   "metadata": {},
   "outputs": [
    {
     "name": "stdout",
     "output_type": "stream",
     "text": [
      "4\n",
      "1 2 3\n",
      "4 5 6\n",
      "10 11 12\n",
      "7 8 9\n",
      "33\n",
      "[10, 11, 12]\n"
     ]
    }
   ],
   "source": [
    "#Ans to the question no 2:\n",
    "\n",
    "list_length=int(input())\n",
    "max_list=[]\n",
    "max_sum=0\n",
    "for i in range(list_length):\n",
    "    list1=input()\n",
    "    x=list1.split()\n",
    "    new_list=[]\n",
    "    for j in x:\n",
    "        numeric=int(j)\n",
    "        new_list.append(numeric)\n",
    "    sum_list=sum(new_list)\n",
    "   # print(sum_list)\n",
    "    if max_sum <= sum_list:\n",
    "        \n",
    "        max_sum=0+sum_list\n",
    "        max_list=new_list\n",
    "    \n",
    "print(max_sum)\n",
    "print(max_list)"
   ]
  },
  {
   "cell_type": "code",
   "execution_count": 18,
   "id": "c47cb710",
   "metadata": {},
   "outputs": [
    {
     "name": "stdout",
     "output_type": "stream",
     "text": [
      "[6, 8, 10, 9, 12, 15, 18, 24, 30]\n"
     ]
    }
   ],
   "source": [
    "#Ans to the question no 3:\n",
    "\n",
    "input1= \"2 3 6\"\n",
    "x=input1.split()\n",
    "\n",
    "input2=\"3 4 5\"\n",
    "y=input2.split()\n",
    "\n",
    "new_list=[]\n",
    "for i in x:\n",
    "    n1=int(i)\n",
    "    for j in y:\n",
    "        n2=int(j)\n",
    "        new_list.append(n1*n2)\n",
    "print(new_list)        \n"
   ]
  },
  {
   "cell_type": "code",
   "execution_count": 28,
   "id": "9a139f02",
   "metadata": {},
   "outputs": [
    {
     "name": "stdout",
     "output_type": "stream",
     "text": [
      "1 4 2 3\n",
      "UB Jumper\n",
      "2 1 4 6 10\n",
      "UB Jumper\n",
      "1 4 2 -1 6\n",
      "Not UB Jumper\n",
      "STOP\n"
     ]
    }
   ],
   "source": [
    "#Ans to the question no 4:\n",
    "\n",
    "l1=[]\n",
    "l2=[]\n",
    "while True:\n",
    "    count=0\n",
    "    user=input()\n",
    "    if user==\"STOP\":\n",
    "        break\n",
    "    a=user.split()\n",
    "    \n",
    "    for i in range(1,len(a)):\n",
    "        sub=abs(int(a[i])-int(a[i-1]))\n",
    "        l1.append(sub)\n",
    "        l2.append(i)\n",
    "    for j in l1:\n",
    "        if j in l2:\n",
    "            count+=1\n",
    "    if count==len(l1):\n",
    "        print(\"UB Jumper\")\n",
    "    else:\n",
    "        print(\"Not UB Jumper\")\n",
    "            \n"
   ]
  },
  {
   "cell_type": "code",
   "execution_count": 22,
   "id": "69f94058",
   "metadata": {},
   "outputs": [
    {
     "name": "stdout",
     "output_type": "stream",
     "text": [
      "acruB1324\n"
     ]
    }
   ],
   "source": [
    "#Ans to the question no 5:\n",
    "\n",
    "\n",
    "user=\"Bracu1234\"\n",
    "\n",
    "lower_c=\"abcdefghijklmnopqrstuvwxyz\"\n",
    "upper_c=\"ABCDEFGHIJKLMNOPQRSTUVWXYZ\"\n",
    "digit_c=\"0123456789\"\n",
    "\n",
    "\n",
    "lower=[]\n",
    "upper=[]\n",
    "digit=[]\n",
    "\n",
    "for i in user:\n",
    "    if i in lower_c:\n",
    "        lower.append(i)\n",
    "    elif i in upper_c:\n",
    "        upper.append(i)\n",
    "    elif i in digit_c:\n",
    "        k=int(i)\n",
    "        digit.append(k)\n",
    "#print(digit)\n",
    "\n",
    "even=[]\n",
    "odd=[]\n",
    "for num in digit:\n",
    "    if num%2==0:\n",
    "        even.append(num)\n",
    "    else:\n",
    "        odd.append(num)\n",
    "        \n",
    "#print(even)\n",
    "\n",
    "lower.sort()\n",
    "upper.sort()\n",
    "\n",
    "number=odd+even\n",
    "string_num=[]\n",
    "for element in number:\n",
    "    x=str(element)\n",
    "    string_num.append(x)\n",
    "#print(string_num)  \n",
    "\n",
    "final=lower+upper+string_num\n",
    "convert=''.join(final)\n",
    "print(convert)"
   ]
  },
  {
   "cell_type": "code",
   "execution_count": 82,
   "id": "96fd5277",
   "metadata": {},
   "outputs": [
    {
     "name": "stdout",
     "output_type": "stream",
     "text": [
      "1\n",
      "0\n",
      "2\n"
     ]
    }
   ],
   "source": [
    "#Ans to the question no 6:\n",
    "\n",
    "inpt1= \"6 4\"\n",
    "inpt2=\"0 1 2 3 4 5\"\n",
    "\n",
    "def user(inpt1,inpt2):\n",
    "    a=inpt1.split()\n",
    "    convert_inpt1=list(a)\n",
    "\n",
    "    b=inpt2.split()\n",
    "    convert_inpt2=list(b)\n",
    "    list1=[]\n",
    "    for i in convert_inpt1:\n",
    "        n1=int(i)\n",
    "        list1.append(n1)\n",
    "    count=0\n",
    "    for j in convert_inpt2:\n",
    "        n2=int(j)\n",
    "        if (list1[0]-n2)>list1[1]:\n",
    "            count=count+1\n",
    "        else:\n",
    "            pass\n",
    "    value=count//3\n",
    "    return(value)\n",
    "    \n",
    "\n",
    "\n",
    "user1=\"5 2\"\n",
    "user2=\"0 4 5 1 0\"\n",
    "print(user(user1,user2))\n",
    "\n",
    "user1=\"6 4\"\n",
    "user2=\"0 1 2 3 4 5\"\n",
    "print(user(user1,user2))\n",
    "\n",
    "user1=\"6 5\"\n",
    "user2=\"0 0 0 0 0 0\"\n",
    "print(user(user1,user2))"
   ]
  },
  {
   "cell_type": "code",
   "execution_count": 125,
   "id": "727f737a",
   "metadata": {},
   "outputs": [
    {
     "name": "stdout",
     "output_type": "stream",
     "text": [
      "{'a': 400, ' b': 300, ' c': 200, ' d': 700, ' e': 200}\n",
      "Values: (200, 300, 400, 700)\n"
     ]
    }
   ],
   "source": [
    "#Dictionary\n",
    "#Ans to the question no 1:\n",
    "\n",
    "inpt1=\"a: 100, b: 100, c: 200, d: 300\"\n",
    "inpt2=\"a: 300, b: 200, d: 400, e: 200\"\n",
    "\n",
    "dict1={}\n",
    "for i in inpt1:\n",
    "    x=inpt1.split(\",\")\n",
    "     \n",
    "for j in x:\n",
    "    k,v=j.split(\":\")\n",
    "    dict1[k]=int(v)\n",
    "#print(dict1)    \n",
    "\n",
    "dict2={}\n",
    "for i2 in inpt2:\n",
    "    y=inpt2.split(\",\")\n",
    "for j2 in y:\n",
    "    k,v=j2.split(\":\")\n",
    "    dict2[k]=int(v)\n",
    "#print(dict2)    \n",
    "\n",
    "for k,v in dict2.items():\n",
    "    if dict1.get(k)==None:\n",
    "        dict1[k]=v\n",
    "    else:\n",
    "        dict1[k]+=v\n",
    "print(dict1)     \n",
    "val1=[]\n",
    "val2=[]\n",
    "for value in dict1.values(): \n",
    "    val1.append(value)\n",
    "#print(val)  \n",
    "\n",
    "for element in val1:\n",
    "    if element not in val2:\n",
    "        val2.append(element)\n",
    "val2.sort()        \n",
    "#print(val2)       \n",
    "\n",
    "up=tuple(val2)\n",
    "print(\"Values:\",up)"
   ]
  },
  {
   "cell_type": "code",
   "execution_count": 21,
   "id": "f54db950",
   "metadata": {},
   "outputs": [
    {
     "name": "stdout",
     "output_type": "stream",
     "text": [
      "10\n",
      "20\n",
      "20\n",
      "30\n",
      "10\n",
      "50\n",
      "90\n",
      "STOP\n",
      "10 - 2 times\n",
      "20 - 2 times\n",
      "30 - 1 times\n",
      "50 - 1 times\n",
      "90 - 1 times\n"
     ]
    }
   ],
   "source": [
    "#Ans to the question no 2:\n",
    "\n",
    "dict1={}\n",
    " \n",
    "while True:\n",
    "    num1=input()\n",
    "    if num1 == \"STOP\" :\n",
    "        break\n",
    "    else:\n",
    "        num=int(num1)\n",
    "        if num in dict1:\n",
    "            dict1[num]=dict1[num]+1\n",
    "        else:\n",
    "            dict1[num]=1\n",
    "#print(dict1)            \n",
    "\n",
    "for k,v in dict1.items():\n",
    "    print(k,\"-\",v,\"times\")"
   ]
  },
  {
   "cell_type": "code",
   "execution_count": 36,
   "id": "52b2c6c8",
   "metadata": {},
   "outputs": [
    {
     "name": "stdout",
     "output_type": "stream",
     "text": [
      "{' value1': ['key1 ', ' key3 '], ' value2': [' key2 ']}\n"
     ]
    }
   ],
   "source": [
    "#Ans to the question no 3:\n",
    "\n",
    "inpt=\"key1 : value1, key2 : value2, key3 : value1\"\n",
    "\n",
    "dict1={}\n",
    "for i in inpt:\n",
    "    x=inpt.split(\",\")\n",
    "for j in x:\n",
    "    k,v=j.split(\":\")\n",
    "    dict1[k]=v\n",
    "#print(dict1) \n",
    "\n",
    "dict2={}\n",
    "for n in dict1:\n",
    "    if dict1[n] not in dict2:\n",
    "        dict2[dict1[n]]=[n]\n",
    "    else:\n",
    "        dict2[dict1[n]].append(n)\n",
    "print(dict2)        \n",
    "    \n",
    "    "
   ]
  },
  {
   "cell_type": "code",
   "execution_count": 30,
   "id": "a3afe86e",
   "metadata": {},
   "outputs": [
    {
     "name": "stdout",
     "output_type": "stream",
     "text": [
      "evil\n",
      "live\n",
      "Those strings are anagrams.\n"
     ]
    }
   ],
   "source": [
    "#Ans to the question no 4:\n",
    "\n",
    "user1 = input()\n",
    "user2 = input()\n",
    "\n",
    "inpt1=user1.upper()\n",
    "inpt2=user2.upper()\n",
    "\n",
    "dict1 = {}\n",
    "dict2 = {}\n",
    "for i in inpt1:\n",
    "    dict1[i] = inpt1.count(i)\n",
    "for j in inpt2:\n",
    "    dict2[j] = inpt2.count(i)\n",
    "    \n",
    "#print(dict1)\n",
    "#print(dict2)\n",
    "if dict1 == dict2 :\n",
    "    print(\"Those strings are anagrams.\")\n",
    "else:\n",
    "    print(\"Those strings are not anagrams.\")\n"
   ]
  },
  {
   "cell_type": "code",
   "execution_count": 25,
   "id": "57c0bdee",
   "metadata": {},
   "outputs": [
    {
     "name": "stdout",
     "output_type": "stream",
     "text": [
      "HELLO, WORLD!\n",
      "4433555555666110966677755531111"
     ]
    }
   ],
   "source": [
    "#Ans to the question no. 5:\n",
    "\n",
    "user=\"Hello, World!\"\n",
    "\n",
    "letter_C=user.upper()\n",
    "    \n",
    "print(letter_C)    \n",
    "\n",
    "numpad={'.':'1',',':'11','?':'111','!':'1111',':':'11111','A':'2','B':'22','C':'222','D':'3','E':'33','F':'333','G':'4','H':'44','I':'444','J':'5','K':'55','L':'555','M':'6','N':'66','O':'666','P':'7','Q':'77','R':'777','S':'7777','T':'8','U':'88','V':'888','W':'9','X':'99','Y':'999','Z':'9999',\" \":'0'}\n",
    "\n",
    "for i in letter_C:\n",
    "    for k,v in numpad.items():\n",
    "        if i==k:\n",
    "            print(v,end=\"\")\n",
    "\n",
    "\n",
    "\n",
    "        "
   ]
  },
  {
   "cell_type": "code",
   "execution_count": null,
   "id": "3d4a2b8a",
   "metadata": {},
   "outputs": [],
   "source": []
  }
 ],
 "metadata": {
  "kernelspec": {
   "display_name": "Python 3",
   "language": "python",
   "name": "python3"
  },
  "language_info": {
   "codemirror_mode": {
    "name": "ipython",
    "version": 3
   },
   "file_extension": ".py",
   "mimetype": "text/x-python",
   "name": "python",
   "nbconvert_exporter": "python",
   "pygments_lexer": "ipython3",
   "version": "3.8.8"
  }
 },
 "nbformat": 4,
 "nbformat_minor": 5
}
